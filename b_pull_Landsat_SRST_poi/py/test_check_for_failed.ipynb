{
 "cells": [
  {
   "cell_type": "code",
   "execution_count": 8,
   "metadata": {},
   "outputs": [],
   "source": [
    "import ee\n",
    "from pandas import read_csv\n",
    "import time\n",
    "import os"
   ]
  },
  {
   "cell_type": "code",
   "execution_count": 2,
   "metadata": {},
   "outputs": [
    {
     "data": {
      "text/plain": [
       "True"
      ]
     },
     "execution_count": 2,
     "metadata": {},
     "output_type": "execute_result"
    }
   ],
   "source": [
    "ee.Authenticate(auth_mode='localhost')"
   ]
  },
  {
   "cell_type": "code",
   "execution_count": 4,
   "metadata": {},
   "outputs": [],
   "source": [
    "\n",
    "# get configs from yml file\n",
    "yml = read_csv(\"~/Documents/GitHub/AquaMatch_lakeSR/b_pull_Landsat_SRST_poi/mid/yml.csv\")\n",
    "# assign proj\n",
    "eeproj = yml[\"ee_proj\"][0]\n",
    "#initialize GEE with proj\n",
    "ee.Initialize(project = eeproj)\n"
   ]
  },
  {
   "cell_type": "code",
   "execution_count": null,
   "metadata": {},
   "outputs": [
    {
     "ename": "AttributeError",
     "evalue": "'list' object has no attribute 'getInfo'",
     "output_type": "error",
     "traceback": [
      "\u001b[0;31m---------------------------------------------------------------------------\u001b[0m",
      "\u001b[0;31mAttributeError\u001b[0m                            Traceback (most recent call last)",
      "Cell \u001b[0;32mIn[6], line 3\u001b[0m\n\u001b[1;32m      1\u001b[0m \u001b[38;5;66;03m# get a list of the 20 most recently submitted tasks\u001b[39;00m\n\u001b[1;32m      2\u001b[0m ts \u001b[38;5;241m=\u001b[39m \u001b[38;5;28mlist\u001b[39m(ee\u001b[38;5;241m.\u001b[39mbatch\u001b[38;5;241m.\u001b[39mTask\u001b[38;5;241m.\u001b[39mlist())\n\u001b[0;32m----> 3\u001b[0m \u001b[43mts\u001b[49m\u001b[38;5;241;43m.\u001b[39;49m\u001b[43mgetInfo\u001b[49m()\n",
      "\u001b[0;31mAttributeError\u001b[0m: 'list' object has no attribute 'getInfo'"
     ]
    }
   ],
   "source": [
    "\n",
    "# get a list of the 20 most recently submitted tasks\n",
    "ts = list(ee.batch.Task.list())\n",
    "ts"
   ]
  },
  {
   "cell_type": "code",
   "execution_count": null,
   "metadata": {},
   "outputs": [],
   "source": [
    "# for each of the tasks, see if any failed, if so, add a line to the csv file with the task id and the error message\n",
    "for task in ts:\n",
    "   if (\"FAIL\" in str(task)):\n",
    "      "
   ]
  },
  {
   "cell_type": "code",
   "execution_count": 10,
   "metadata": {},
   "outputs": [
    {
     "data": {
      "text/plain": [
       "'b_pull_Landsat_SRST_poi/out/locations/locations_034567.csv'"
      ]
     },
     "execution_count": 10,
     "metadata": {},
     "output_type": "execute_result"
    }
   ],
   "source": [
    "pr = \"034567\"\n",
    "locs_fn = os.path.join(\"b_pull_Landsat_SRST_poi/out/locations/\", (\"locations_\" + pr + \".csv\"))\n",
    "locs_fn"
   ]
  }
 ],
 "metadata": {
  "kernelspec": {
   "display_name": "env",
   "language": "python",
   "name": "python3"
  },
  "language_info": {
   "codemirror_mode": {
    "name": "ipython",
    "version": 3
   },
   "file_extension": ".py",
   "mimetype": "text/x-python",
   "name": "python",
   "nbconvert_exporter": "python",
   "pygments_lexer": "ipython3",
   "version": "3.10.14"
  }
 },
 "nbformat": 4,
 "nbformat_minor": 2
}
